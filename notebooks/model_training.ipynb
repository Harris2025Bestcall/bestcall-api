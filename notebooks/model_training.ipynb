{
 "cells": [
  {
   "cell_type": "code",
   "execution_count": null,
   "id": "9723c46d",
   "metadata": {
    "vscode": {
     "languageId": "plaintext"
    }
   },
   "outputs": [],
   "source": [
    "import pandas as pd\n",
    "import json\n",
    "import os\n",
    "import joblib\n",
    "from sklearn.ensemble import RandomForestClassifier\n",
    "from sklearn.model_selection import train_test_split\n",
    "from sklearn.metrics import classification_report\n",
    "\n",
    "# --- Load lender decision training data ---\n",
    "lender_df = pd.read_csv('../data/lender_profiles/bank_decisions_cleaned.csv')\n",
    "\n",
    "# --- Load training client profiles ---\n",
    "client_dir = '../data/output_profiles'\n",
    "client_data = []\n",
    "for fname in os.listdir(client_dir):\n",
    "    if fname.endswith('.json'):\n",
    "        with open(os.path.join(client_dir, fname), 'r') as f:\n",
    "            client_json = json.load(f)\n",
    "            client_json['client_id'] = fname.replace('.json', '')\n",
    "            client_data.append(client_json)\n",
    "\n",
    "client_df = pd.json_normalize(client_data)\n",
    "\n",
    "# --- Merge lender decisions with client profiles ---\n",
    "merged = pd.merge(lender_df, client_df, on='client_id', how='inner')\n",
    "\n",
    "# --- Feature Engineering ---\n",
    "merged['fico_score'] = merged['credit_report.fico_score']\n",
    "merged['utilization'] = merged['credit_report.utilization']\n",
    "merged['annual_income'] = merged['application.income.gross_monthly'].astype(float) * 12\n",
    "merged['loan_amount'] = merged['amount']\n",
    "merged['loan_term'] = merged['term']\n",
    "\n",
    "features = ['fico_score', 'utilization', 'annual_income', 'loan_amount', 'loan_term']\n",
    "X = merged[features]\n",
    "y = merged['approved']\n",
    "\n",
    "# --- Train/test split ---\n",
    "X_train, X_test, y_train, y_test = train_test_split(X, y, test_size=0.2, random_state=42)\n",
    "\n",
    "# --- Train model ---\n",
    "model = RandomForestClassifier(n_estimators=100, random_state=42)\n",
    "model.fit(X_train, y_train)\n",
    "\n",
    "# --- Evaluate ---\n",
    "y_pred = model.predict(X_test)\n",
    "print(classification_report(y_test, y_pred))\n",
    "\n",
    "# --- Save model ---\n",
    "joblib.dump(model, '../models/approval_predictor.pkl')\n",
    "\n",
    "# --- Save feature list ---\n",
    "with open('../models/feature_encoder.json', 'w') as f:\n",
    "    json.dump(features, f)\n",
    "\n",
    "print(\\\"✅ Model training complete and saved.\\\")\n"
   ]
  }
 ],
 "metadata": {
  "language_info": {
   "name": "python"
  }
 },
 "nbformat": 4,
 "nbformat_minor": 5
}
